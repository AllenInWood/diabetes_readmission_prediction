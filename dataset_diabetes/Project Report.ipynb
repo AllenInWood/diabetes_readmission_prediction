{
 "cells": [
  {
   "cell_type": "markdown",
   "metadata": {},
   "source": [
    "Group name: VDC group | Members: Chu-Ching Ho, Di Wu, Van Ly Nguyen"
   ]
  },
  {
   "cell_type": "markdown",
   "metadata": {},
   "source": [
    "# Preparation"
   ]
  },
  {
   "cell_type": "markdown",
   "metadata": {},
   "source": [
    "We first load the data into memory and split data into training data and validation data as following:"
   ]
  },
  {
   "cell_type": "code",
   "execution_count": 1,
   "metadata": {},
   "outputs": [
    {
     "name": "stdout",
     "output_type": "stream",
     "text": [
      "(101766, 50)\n",
      "<class 'pandas.core.frame.DataFrame'>\n",
      "RangeIndex: 101766 entries, 0 to 101765\n",
      "Data columns (total 50 columns):\n",
      "encounter_id                101766 non-null int64\n",
      "patient_nbr                 101766 non-null int64\n",
      "race                        101766 non-null object\n",
      "gender                      101766 non-null object\n",
      "age                         101766 non-null object\n",
      "weight                      101766 non-null object\n",
      "admission_type_id           101766 non-null int64\n",
      "discharge_disposition_id    101766 non-null int64\n",
      "admission_source_id         101766 non-null int64\n",
      "time_in_hospital            101766 non-null int64\n",
      "payer_code                  101766 non-null object\n",
      "medical_specialty           101766 non-null object\n",
      "num_lab_procedures          101766 non-null int64\n",
      "num_procedures              101766 non-null int64\n",
      "num_medications             101766 non-null int64\n",
      "number_outpatient           101766 non-null int64\n",
      "number_emergency            101766 non-null int64\n",
      "number_inpatient            101766 non-null int64\n",
      "diag_1                      101766 non-null object\n",
      "diag_2                      101766 non-null object\n",
      "diag_3                      101766 non-null object\n",
      "number_diagnoses            101766 non-null int64\n",
      "max_glu_serum               101766 non-null object\n",
      "A1Cresult                   101766 non-null object\n",
      "metformin                   101766 non-null object\n",
      "repaglinide                 101766 non-null object\n",
      "nateglinide                 101766 non-null object\n",
      "chlorpropamide              101766 non-null object\n",
      "glimepiride                 101766 non-null object\n",
      "acetohexamide               101766 non-null object\n",
      "glipizide                   101766 non-null object\n",
      "glyburide                   101766 non-null object\n",
      "tolbutamide                 101766 non-null object\n",
      "pioglitazone                101766 non-null object\n",
      "rosiglitazone               101766 non-null object\n",
      "acarbose                    101766 non-null object\n",
      "miglitol                    101766 non-null object\n",
      "troglitazone                101766 non-null object\n",
      "tolazamide                  101766 non-null object\n",
      "examide                     101766 non-null object\n",
      "citoglipton                 101766 non-null object\n",
      "insulin                     101766 non-null object\n",
      "glyburide-metformin         101766 non-null object\n",
      "glipizide-metformin         101766 non-null object\n",
      "glimepiride-pioglitazone    101766 non-null object\n",
      "metformin-rosiglitazone     101766 non-null object\n",
      "metformin-pioglitazone      101766 non-null object\n",
      "change                      101766 non-null object\n",
      "diabetesMed                 101766 non-null object\n",
      "readmitted                  101766 non-null object\n",
      "dtypes: int64(13), object(37)\n",
      "memory usage: 38.8+ MB\n",
      "None\n"
     ]
    }
   ],
   "source": [
    "import numpy as np\n",
    "np.random.seed(0)\n",
    "import mltools as ml\n",
    "import matplotlib.pyplot as plt\n",
    "import pandas as pd\n",
    "from sklearn.model_selection import train_test_split\n",
    "CSV_FILE_PATH = 'data/diabetic_data.csv'\n",
    "data = pd.read_csv(CSV_FILE_PATH)\n",
    "\n",
    "print(data.shape)\n",
    "print(data.info())"
   ]
  },
  {
   "cell_type": "markdown",
   "metadata": {},
   "source": [
    "Because not all features are useful, we could do a feature selection before training our model.\n",
    "Our features include much personal information about patients such as age, weight, race and many other medical treatment results. "
   ]
  },
  {
   "cell_type": "markdown",
   "metadata": {},
   "source": [
    "We can see there are 101766 data and 49 features in the original data. And Y is the class label of each specific data point. \n",
    "For some very obvious features (like \"encounter_id\", \"patient_nbr\"), we can say they are just idenitities and are not related to our prediction (readmitted info) so we just ignore them. For feature examide and citoglipton, they only have 1 value and cannot be used in prediction.\n",
    "Further, among our data there are many missing value as mentioned in the essay. And we can just drop those features with missing rate higher than certain value (eg. 40%)."
   ]
  },
  {
   "cell_type": "code",
   "execution_count": 2,
   "metadata": {},
   "outputs": [
    {
     "name": "stdout",
     "output_type": "stream",
     "text": [
      "('race', 2273)\n",
      "('weight', 98569)\n",
      "('payer_code', 40256)\n",
      "('medical_specialty', 49949)\n",
      "('diag_1', 21)\n",
      "('diag_2', 358)\n",
      "('diag_3', 1423)\n",
      "('gender', 3)\n"
     ]
    }
   ],
   "source": [
    "for col in data.columns:\n",
    "    if data[col].dtype == object:\n",
    "        count = data[col][data[col] == '?'].count()\n",
    "        if count != 0:\n",
    "            print(col, count)\n",
    "print('gender', data['gender'][data['gender'] == 'Unknown/Invalid'].count())"
   ]
  },
  {
   "cell_type": "code",
   "execution_count": 3,
   "metadata": {},
   "outputs": [],
   "source": [
    "# identities\n",
    "data = data.drop('encounter_id', axis=1)\n",
    "data = data.drop('patient_nbr', axis=1)\n",
    "# only contains one value\n",
    "data = data.drop('examide', axis=1)\n",
    "data = data.drop('citoglipton', axis=1)\n",
    "# missing rate is high\n",
    "data = data.drop('weight', axis=1)\n",
    "data = data.drop('payer_code', axis=1)\n",
    "data = data.drop('medical_specialty', axis=1)"
   ]
  },
  {
   "cell_type": "markdown",
   "metadata": {},
   "source": [
    "We should also remove some records:\n",
    "for those records with diag1, diag2 and diag3 all missing, we should get rid of them. And we also remove records with gender = 'Unknown/Invalid'."
   ]
  },
  {
   "cell_type": "code",
   "execution_count": 4,
   "metadata": {},
   "outputs": [
    {
     "name": "stdout",
     "output_type": "stream",
     "text": [
      "(101762, 43)\n"
     ]
    }
   ],
   "source": [
    "diag_Idx = set(data[(data['diag_1'] == '?') & (data['diag_2'] == '?') & (data['diag_3'] == '?')].index)\n",
    "gender_Idx = set(data['gender'][data['gender'] == 'Unknown/Invalid'].index)\n",
    "data = data.drop(data.index[list(diag_Idx.union(gender_Idx))])\n",
    "print(data.shape)"
   ]
  },
  {
   "cell_type": "markdown",
   "metadata": {},
   "source": [
    "For the remaining data missing, we should replace them with np.nan."
   ]
  },
  {
   "cell_type": "code",
   "execution_count": 5,
   "metadata": {},
   "outputs": [],
   "source": [
    "data = data.replace('?',np.nan)"
   ]
  },
  {
   "cell_type": "markdown",
   "metadata": {},
   "source": [
    "We are predicting whether a patient will occur readmission after treatment. And for patients with >30 days' readmitted, we replace them with 0. For readmitted in more than 30 days has very little correlated factor with first admitted.\n",
    "The distribution of our classes is like the following:"
   ]
  },
  {
   "cell_type": "code",
   "execution_count": 6,
   "metadata": {
    "scrolled": false
   },
   "outputs": [
    {
     "data": {
      "image/png": "[encoded data removed]",
      "text/plain": [
       "<Figure size 432x288 with 1 Axes>"
      ]
     },
     "metadata": {
      "needs_background": "light"
     },
     "output_type": "display_data"
    },
    {
     "data": {
      "text/plain": [
       "<Figure size 360x216 with 0 Axes>"
      ]
     },
     "metadata": {},
     "output_type": "display_data"
    },
    {
     "name": "stdout",
     "output_type": "stream",
     "text": [
      "readmitted\n",
      "0    90405\n",
      "1    11357\n",
      "dtype: int64\n",
      "                                  0          1                2          3  \\\n",
      "race                      Caucasian  Caucasian  AfricanAmerican  Caucasian   \n",
      "gender                       Female     Female           Female       Male   \n",
      "age                          [0-10)    [10-20)          [20-30)    [30-40)   \n",
      "admission_type_id                 6          1                1          1   \n",
      "discharge_disposition_id         25          1                1          1   \n",
      "admission_source_id               1          7                7          7   \n",
      "time_in_hospital                  1          3                2          2   \n",
      "num_lab_procedures               41         59               11         44   \n",
      "num_procedures                    0          0                5          1   \n",
      "num_medications                   1         18               13         16   \n",
      "number_outpatient                 0          0                2          0   \n",
      "number_emergency                  0          0                0          0   \n",
      "number_inpatient                  0          0                1          0   \n",
      "diag_1                       250.83        276              648          8   \n",
      "diag_2                          NaN     250.01              250     250.43   \n",
      "diag_3                          NaN        255              V27        403   \n",
      "number_diagnoses                  1          9                6          7   \n",
      "max_glu_serum                  None       None             None       None   \n",
      "A1Cresult                      None       None             None       None   \n",
      "metformin                        No         No               No         No   \n",
      "repaglinide                      No         No               No         No   \n",
      "nateglinide                      No         No               No         No   \n",
      "chlorpropamide                   No         No               No         No   \n",
      "glimepiride                      No         No               No         No   \n",
      "acetohexamide                    No         No               No         No   \n",
      "glipizide                        No         No           Steady         No   \n",
      "glyburide                        No         No               No         No   \n",
      "tolbutamide                      No         No               No         No   \n",
      "pioglitazone                     No         No               No         No   \n",
      "rosiglitazone                    No         No               No         No   \n",
      "acarbose                         No         No               No         No   \n",
      "miglitol                         No         No               No         No   \n",
      "troglitazone                     No         No               No         No   \n",
      "tolazamide                       No         No               No         No   \n",
      "insulin                          No         Up               No         Up   \n",
      "glyburide-metformin              No         No               No         No   \n",
      "glipizide-metformin              No         No               No         No   \n",
      "glimepiride-pioglitazone         No         No               No         No   \n",
      "metformin-rosiglitazone          No         No               No         No   \n",
      "metformin-pioglitazone           No         No               No         No   \n",
      "change                           No         Ch               No         Ch   \n",
      "diabetesMed                      No        Yes              Yes        Yes   \n",
      "readmitted                        0          0                0          0   \n",
      "\n",
      "                                  4  \n",
      "race                      Caucasian  \n",
      "gender                         Male  \n",
      "age                         [40-50)  \n",
      "admission_type_id                 1  \n",
      "discharge_disposition_id          1  \n",
      "admission_source_id               7  \n",
      "time_in_hospital                  1  \n",
      "num_lab_procedures               51  \n",
      "num_procedures                    0  \n",
      "num_medications                   8  \n",
      "number_outpatient                 0  \n",
      "number_emergency                  0  \n",
      "number_inpatient                  0  \n",
      "diag_1                          197  \n",
      "diag_2                          157  \n",
      "diag_3                          250  \n",
      "number_diagnoses                  5  \n",
      "max_glu_serum                  None  \n",
      "A1Cresult                      None  \n",
      "metformin                        No  \n",
      "repaglinide                      No  \n",
      "nateglinide                      No  \n",
      "chlorpropamide                   No  \n",
      "glimepiride                      No  \n",
      "acetohexamide                    No  \n",
      "glipizide                    Steady  \n",
      "glyburide                        No  \n",
      "tolbutamide                      No  \n",
      "pioglitazone                     No  \n",
      "rosiglitazone                    No  \n",
      "acarbose                         No  \n",
      "miglitol                         No  \n",
      "troglitazone                     No  \n",
      "tolazamide                       No  \n",
      "insulin                      Steady  \n",
      "glyburide-metformin              No  \n",
      "glipizide-metformin              No  \n",
      "glimepiride-pioglitazone         No  \n",
      "metformin-rosiglitazone          No  \n",
      "metformin-pioglitazone           No  \n",
      "change                           Ch  \n",
      "diabetesMed                     Yes  \n",
      "readmitted                        0  \n"
     ]
    }
   ],
   "source": [
    "data['readmitted'] = data['readmitted'].replace('>30', 0)\n",
    "data['readmitted'] = data['readmitted'].replace('<30', 1)\n",
    "data['readmitted'] = data['readmitted'].replace('NO', 0)\n",
    "data['readmitted'].value_counts().plot(kind='bar', grid=True)\n",
    "plt.figure(figsize=(5,3))\n",
    "plt.show()\n",
    "print(data.groupby('readmitted').size())\n",
    "print(data.head().T)"
   ]
  },
  {
   "cell_type": "markdown",
   "metadata": {},
   "source": [
    "From bar chart above among 101,767 data, we could see that nearly 90,405 data point with \"readmitted\", 11,357 labeled \"no readmitted\". That means patients without readmitted are more frequent and patients with readmitted much smaller  which is consistent with common sense.\n",
    "After knowing about our classes, we want to know more about our features which is vital to train our model and make corresponding prediction in the following. "
   ]
  },
  {
   "cell_type": "markdown",
   "metadata": {},
   "source": [
    "# Feature selection"
   ]
  },
  {
   "cell_type": "markdown",
   "metadata": {},
   "source": [
    "For some numeric features, we could plot the density distribution of each feature and get rid of unuseful features in the following (classification density is same over different values)."
   ]
  },
  {
   "cell_type": "code",
   "execution_count": 7,
   "metadata": {},
   "outputs": [
    {
     "data": {
      "image/png": "[encoded data removed]",
      "text/plain": [
       "<Figure size 432x288 with 1 Axes>"
      ]
     },
     "metadata": {
      "needs_background": "light"
     },
     "output_type": "display_data"
    }
   ],
   "source": [
    "# for feature num_medications\n",
    "data['num_medications'][data['readmitted'] == 1].plot(kind='kde')\n",
    "data['num_medications'][data['readmitted'] == 0].plot(kind='kde')\n",
    "plt.legend(('1', '0'),loc='best')\n",
    "plt.show()"
   ]
  },
  {
   "cell_type": "markdown",
   "metadata": {},
   "source": [
    "For this 'num_medications' feature, we find the density of 0, 1 and 2 almost overlapped. It means it nearly makes no contribution to class decision. We should get rid of it."
   ]
  },
  {
   "cell_type": "code",
   "execution_count": 8,
   "metadata": {},
   "outputs": [],
   "source": [
    "data = data.drop('num_medications', axis=1)"
   ]
  },
  {
   "cell_type": "markdown",
   "metadata": {},
   "source": [
    "After that, we should do some encoding for some nominal features as following:"
   ]
  },
  {
   "cell_type": "code",
   "execution_count": 9,
   "metadata": {},
   "outputs": [
    {
     "data": {
      "image/png": "[encoded data removed]",
      "text/plain": [
       "<Figure size 432x288 with 1 Axes>"
      ]
     },
     "metadata": {
      "needs_background": "light"
     },
     "output_type": "display_data"
    }
   ],
   "source": [
    "from collections import OrderedDict as odict\n",
    "\n",
    "# For feature gender, we should code 'male' and 'female' using 0 and 1\n",
    "data['gender'] = data['gender'].replace('Male',0)\n",
    "data['gender'] = data['gender'].replace('Female',1)\n",
    "\n",
    "feat2 = pd.concat([data.iloc[:,1], data['readmitted']], axis=1)\n",
    "feat2_lt30 = feat2[feat2['readmitted'] == 1]\n",
    "feat2_no = feat2[feat2['readmitted'] == 0]\n",
    "\n",
    "feat2_1 = dict(feat2_lt30['gender'].value_counts())\n",
    "feat2_1 = odict(sorted(feat2_1.items()))\n",
    "\n",
    "feat2_2 = dict(feat2_no['gender'].value_counts())\n",
    "feat2_2 = odict(sorted(feat2_2.items()))\n",
    "\n",
    "plt.plot(list(feat2_1.keys()), list(feat2_1.values()), label=\"class_1\")\n",
    "plt.plot(list(feat2_2.keys()), list(feat2_2.values()), label=\"class_2\")\n",
    "plt.legend(('1', '0'),loc='best')\n",
    "plt.show()"
   ]
  },
  {
   "cell_type": "code",
   "execution_count": 10,
   "metadata": {
    "scrolled": true
   },
   "outputs": [
    {
     "data": {
      "image/png": "[encoded data removed]",
      "text/plain": [
       "<Figure size 432x288 with 1 Axes>"
      ]
     },
     "metadata": {
      "needs_background": "light"
     },
     "output_type": "display_data"
    }
   ],
   "source": [
    "# for feature age\n",
    "\n",
    "# for age feature with '[i - i+10)' representation,\n",
    "# we should replace them with the begining number to turn this feature into numeric\n",
    "data['age'] = data['age'].replace('[0-10)',0)\n",
    "data['age'] = data['age'].replace('[10-20)',10)\n",
    "data['age'] = data['age'].replace('[20-30)',20)\n",
    "data['age'] = data['age'].replace('[30-40)',30)\n",
    "data['age'] = data['age'].replace('[40-50)',40)\n",
    "data['age'] = data['age'].replace('[50-60)',50)\n",
    "data['age'] = data['age'].replace('[60-70)',60)\n",
    "data['age'] = data['age'].replace('[70-80)',70)\n",
    "data['age'] = data['age'].replace('[80-90)',80)\n",
    "data['age'] = data['age'].replace('[90-100)',90)\n",
    "\n",
    "feat4 = pd.concat([data.iloc[:,2], data['readmitted']], axis=1)\n",
    "feat4_lt30 = feat4[feat4['readmitted'] == 1]\n",
    "feat4_no = feat4[feat4['readmitted'] == 0]\n",
    "\n",
    "feat4_1 = dict(feat4_lt30['age'].value_counts())\n",
    "feat4_1 = odict(sorted(feat4_1.items()))\n",
    "\n",
    "feat4_2 = dict(feat4_no['age'].value_counts())\n",
    "feat4_2 = odict(sorted(feat4_2.items()))\n",
    "\n",
    "plt.plot(list(feat4_1.keys()), list(feat4_1.values()), label=\"class_1\")\n",
    "plt.plot(list(feat4_2.keys()), list(feat4_2.values()), label=\"class_2\")\n",
    "plt.legend(('1', '0'),loc='best')\n",
    "plt.show()"
   ]
  },
  {
   "cell_type": "code",
   "execution_count": 11,
   "metadata": {},
   "outputs": [],
   "source": [
    "# For other discrete features, we should also replace them with numeric value\n",
    "data['change'] = data['change'].replace('Ch', 1)\n",
    "data['change'] = data['change'].replace('No', 0)\n",
    "\n",
    "data['diabetesMed'] = data['diabetesMed'].replace('Yes', 1)\n",
    "data['diabetesMed'] = data['diabetesMed'].replace('No', 0)\n",
    "\n",
    "data['max_glu_serum'] = data['max_glu_serum'].replace('>300', 3)\n",
    "data['max_glu_serum'] = data['max_glu_serum'].replace('>200', 2)\n",
    "data['max_glu_serum'] = data['max_glu_serum'].replace('Normal', 1)\n",
    "data['max_glu_serum'] = data['max_glu_serum'].replace('None', 0)\n",
    "\n",
    "data['A1Cresult'] = data['A1Cresult'].replace('>8', 3)\n",
    "data['A1Cresult'] = data['A1Cresult'].replace('>7', 2)\n",
    "data['A1Cresult'] = data['A1Cresult'].replace('Normal', 1)\n",
    "data['A1Cresult'] = data['A1Cresult'].replace('None', 0)"
   ]
  },
  {
   "cell_type": "markdown",
   "metadata": {},
   "source": [
    "For feature race, it is a discrete Nominal feature with values: Caucasian, Asian, African American, Hispanic, and other. We would like to transform it into a numeric feature. Here we use one-hot encoding. In ont-hot encoding, we create 5 additional columns for every values in 'race' and each has value 1 if record has that value or 0 otherwise."
   ]
  },
  {
   "cell_type": "code",
   "execution_count": 12,
   "metadata": {},
   "outputs": [
    {
     "name": "stdout",
     "output_type": "stream",
     "text": [
      "                0  1  2  3  4\n",
      "race_Asian      0  0  0  0  0\n",
      "race_Caucasian  1  1  0  1  1\n",
      "race_Hispanic   0  0  0  0  0\n",
      "race_Other      0  0  0  0  0\n"
     ]
    }
   ],
   "source": [
    "def create_dummies(data,column_name):\n",
    "    dummies = pd.get_dummies(data[column_name],prefix=column_name, drop_first = True)\n",
    "    print(dummies.head().T)\n",
    "    data = pd.concat([data,dummies],axis=1)\n",
    "    data = data.drop(column_name, axis=1)\n",
    "    return data\n",
    "\n",
    "data = create_dummies(data, 'race')\n",
    "# data = create_dummies(data, 'max_glu_serum')\n",
    "# data = create_dummies(data, 'A1Cresult')"
   ]
  },
  {
   "cell_type": "markdown",
   "metadata": {},
   "source": [
    "There are 24 kinds of drug related features, we didn't know the details of each drugs and their efficacy. They indicate whether the dosage of each drug has been changed during treatment. “up” indicates increasing during the encounter, “down” indicates decreasing, “steady” indicates no change, and “no” indicates no prescribed (which also means no change).\n",
    "In order to simplify our model, we only use the number of dosage change during encounter instead of using them all which means we don't distinguish changes between drugs and will combine the changes together among all 24 changes."
   ]
  },
  {
   "cell_type": "code",
   "execution_count": 13,
   "metadata": {},
   "outputs": [
    {
     "name": "stdout",
     "output_type": "stream",
     "text": [
      "0    74059\n",
      "1    26272\n",
      "2     1318\n",
      "3      108\n",
      "4        5\n",
      "Name: drug_change_num, dtype: int64\n"
     ]
    }
   ],
   "source": [
    "drugs = ['metformin', 'repaglinide', 'nateglinide', 'chlorpropamide',\n",
    "         'glimepiride', 'glipizide', 'glyburide', 'pioglitazone',\n",
    "         'rosiglitazone', 'acarbose', 'miglitol', 'insulin',\n",
    "         'glyburide-metformin', 'tolazamide',\n",
    "         'metformin-pioglitazone','metformin-rosiglitazone',\n",
    "         'glimepiride-pioglitazone', 'glipizide-metformin',\n",
    "         'troglitazone', 'tolbutamide', 'acetohexamide']\n",
    "data['drug_change_num'] = 0\n",
    "for drug in drugs:\n",
    "    data['drug_change_num'] += data[drug].apply(lambda x: 0 if (x == 'No' or x == 'Steady') else 1)\n",
    "    data = data.drop(drug, axis=1)\n",
    "\n",
    "print(data['drug_change_num'].value_counts())"
   ]
  },
  {
   "cell_type": "markdown",
   "metadata": {},
   "source": [
    "After all data preprocessing is done, we should shuffle our data and split them into training data (80%) and testing data (20%)."
   ]
  },
  {
   "cell_type": "code",
   "execution_count": 14,
   "metadata": {},
   "outputs": [
    {
     "name": "stdout",
     "output_type": "stream",
     "text": [
      "(101762, 25)\n"
     ]
    }
   ],
   "source": [
    "data = data.sample(n = len(data)).reset_index(drop = True)\n",
    "print(data.shape)"
   ]
  },
  {
   "cell_type": "code",
   "execution_count": 15,
   "metadata": {},
   "outputs": [
    {
     "name": "stdout",
     "output_type": "stream",
     "text": [
      "(101762, 24)\n",
      "(101762,)\n"
     ]
    }
   ],
   "source": [
    "Y = data.readmitted\n",
    "X = data.drop('readmitted', axis=1)\n",
    "print(X.shape)\n",
    "print(Y.shape)\n",
    "X = X.apply(pd.to_numeric, errors='coerce')\n",
    "Y = Y.apply(pd.to_numeric, errors='coerce')\n",
    "X.fillna(0, inplace=True)\n",
    "Y.fillna(0, inplace=True)\n",
    "X_train, X_test, y_train, y_test = train_test_split(X, Y,test_size=0.2)"
   ]
  },
  {
   "cell_type": "markdown",
   "metadata": {},
   "source": [
    "# Model build"
   ]
  },
  {
   "cell_type": "markdown",
   "metadata": {},
   "source": [
    "## Logistic regression"
   ]
  },
  {
   "cell_type": "markdown",
   "metadata": {},
   "source": [
    "We first choose logistic regression model. We use our training data to train the model and make prediction for both training data and testing data and finally calculate ROC AUC and Accuracy for our prediction."
   ]
  },
  {
   "cell_type": "code",
   "execution_count": 16,
   "metadata": {},
   "outputs": [
    {
     "name": "stdout",
     "output_type": "stream",
     "text": [
      "Training result:\n",
      "('AUC=', 0.6416803958636719)\n",
      "('Accuracy=', 0.8882433146212335)\n",
      "Testing result:\n",
      "('AUC=', 0.6381560490621228)\n",
      "('Accuracy=', 0.8883211320198496)\n"
     ]
    }
   ],
   "source": [
    "from sklearn.linear_model import LogisticRegression\n",
    "from sklearn.metrics import roc_curve, auc, accuracy_score\n",
    "\n",
    "lr = LogisticRegression()\n",
    "lr.fit(X_train, y_train)\n",
    "\n",
    "logregression_y_train_predict = lr.predict_proba(X_train)[:,1]\n",
    "logregression_y_test_predict = lr.predict_proba(X_test)[:,1]\n",
    "\n",
    "threshold = 0.5\n",
    "\n",
    "print('Training result:')\n",
    "fpr_train, tpr_train, thresholds_train = roc_curve(y_train, logregression_y_train_predict)\n",
    "print('AUC=',auc(fpr_train, tpr_train))\n",
    "print('Accuracy=',accuracy_score(y_train, (logregression_y_train_predict > threshold)))\n",
    "\n",
    "print('Testing result:')\n",
    "fpr_test, tpr_test, thresholds_test = roc_curve(y_test, logregression_y_test_predict)\n",
    "print('AUC=',auc(fpr_test, tpr_test))\n",
    "print('Accuracy=',accuracy_score(y_test, (logregression_y_test_predict > threshold)))"
   ]
  },
  {
   "cell_type": "markdown",
   "metadata": {},
   "source": [
    "It can get 0.638 score in test data"
   ]
  },
  {
   "cell_type": "markdown",
   "metadata": {},
   "source": [
    "## Random forest"
   ]
  },
  {
   "cell_type": "markdown",
   "metadata": {},
   "source": [
    "### max_depth and min_sample_split"
   ]
  },
  {
   "cell_type": "code",
   "execution_count": 17,
   "metadata": {
    "scrolled": false
   },
   "outputs": [
    {
     "name": "stderr",
     "output_type": "stream",
     "text": [
      "/anaconda2/lib/python2.7/site-packages/sklearn/ensemble/weight_boosting.py:29: DeprecationWarning: numpy.core.umath_tests is an internal NumPy module and should not be imported. It will be removed in a future NumPy release.\n",
      "  from numpy.core.umath_tests import inner1d\n"
     ]
    },
    {
     "data": {
      "text/plain": [
       "Text(0.5,1.05,'test AUC score under different max_depth and min_split')"
      ]
     },
     "execution_count": 17,
     "metadata": {},
     "output_type": "execute_result"
    },
    {
     "data": {
      "image/png": "[encoded data removed]",
      "text/plain": [
       "<Figure size 576x360 with 2 Axes>"
      ]
     },
     "metadata": {
      "needs_background": "light"
     },
     "output_type": "display_data"
    },
    {
     "data": {
      "image/png": "[encoded data removed]",
      "text/plain": [
       "<Figure size 576x360 with 2 Axes>"
      ]
     },
     "metadata": {
      "needs_background": "light"
     },
     "output_type": "display_data"
    }
   ],
   "source": [
    "from sklearn.ensemble import RandomForestClassifier\n",
    "\n",
    "max_depth_arr = [2,4,6,8,10,12,14,16,18,20]\n",
    "min_sample_split=[4,8,12,16,20,24]\n",
    "tr_auc = np.zeros((len(max_depth_arr),len(min_sample_split)))\n",
    "te_auc = np.zeros((len(max_depth_arr),len(min_sample_split)))\n",
    "for i,d in enumerate(max_depth_arr):\n",
    "    for j,s in enumerate(min_sample_split):\n",
    "        clf = RandomForestClassifier(n_estimators=100, n_jobs=4,\n",
    "                                     max_depth=d, min_samples_split=s)\n",
    "        clf.fit(X_train, y_train)\n",
    "        randomforest_y_train_predict = clf.predict_proba(X_train)[:,1]\n",
    "        randomforest_y_test_predict = clf.predict_proba(X_test)[:,1]\n",
    "        fpr, tpr, thresholds = roc_curve(y_train, randomforest_y_train_predict)\n",
    "        tr_auc[i][j]=auc(fpr, tpr)\n",
    "        fpr, tpr, thresholds = roc_curve(y_test, randomforest_y_test_predict)\n",
    "        te_auc[i][j]=auc(fpr, tpr)\n",
    "f, ax = plt.subplots(1, 1, figsize=(8, 5))\n",
    "cax = ax.matshow(tr_auc, interpolation='nearest')\n",
    "f.colorbar(cax)\n",
    "ax.set_yticklabels(list(max_depth_arr))\n",
    "ax.set_xticklabels(list(min_sample_split))\n",
    "ax.set_yticks(np.arange(len(max_depth_arr)))\n",
    "ax.set_xticks(np.arange(len(min_sample_split)))\n",
    "ax.set_title('train AUC score under different max_depth and min_split')\n",
    "\n",
    "f, ax = plt.subplots(1, 1, figsize=(8, 5))\n",
    "cax = ax.matshow(te_auc, interpolation='nearest')\n",
    "f.colorbar(cax)\n",
    "ax.set_yticklabels(list(max_depth_arr))\n",
    "ax.set_xticklabels(list(min_sample_split))\n",
    "ax.set_yticks(np.arange(len(max_depth_arr)))\n",
    "ax.set_xticks(np.arange(len(min_sample_split)))\n",
    "ax.set_title('test AUC score under different max_depth and min_split')"
   ]
  },
  {
   "cell_type": "code",
   "execution_count": 19,
   "metadata": {},
   "outputs": [
    {
     "data": {
      "image/png": "[encoded data removed]",
      "text/plain": [
       "<Figure size 432x288 with 1 Axes>"
      ]
     },
     "metadata": {
      "needs_background": "light"
     },
     "output_type": "display_data"
    }
   ],
   "source": [
    "plt.plot(min_sample_split, te_auc[5,:])\n",
    "plt.show()"
   ]
  },
  {
   "cell_type": "markdown",
   "metadata": {},
   "source": [
    "From plot above, we could know min sample split produce the best result when it equals to 16 and max depth produce best result when it equals to 12"
   ]
  },
  {
   "cell_type": "markdown",
   "metadata": {},
   "source": [
    "### n_estimators"
   ]
  },
  {
   "cell_type": "code",
   "execution_count": 21,
   "metadata": {},
   "outputs": [
    {
     "data": {
      "image/png": "[encoded data removed]",
      "text/plain": [
       "<Figure size 432x288 with 1 Axes>"
      ]
     },
     "metadata": {
      "needs_background": "light"
     },
     "output_type": "display_data"
    }
   ],
   "source": [
    "train_results=np.zeros(20)\n",
    "test_results=np.zeros(20)\n",
    "x=range(0,20)\n",
    "for i in range(0,20):\n",
    "    clf = RandomForestClassifier(n_estimators=20*i+1, n_jobs=4, max_depth=12,\n",
    "                                      min_samples_split=16, min_samples_leaf=1)\n",
    "    clf.fit(X_train, y_train)\n",
    "    randomforest_y_train_predict1=clf.predict_proba(X_train)[:,1]\n",
    "    randomforest_y_test_predict1=clf.predict_proba(X_test)[:,1]\n",
    "    fpr, tpr, thresholds = roc_curve(y_train, randomforest_y_train_predict1)\n",
    "    train_results[i]=auc(fpr, tpr)\n",
    "    fpr, tpr, thresholds = roc_curve(y_test, randomforest_y_test_predict1)\n",
    "    test_results[i]=auc(fpr, tpr)\n",
    "    x[i] = 20*i+1\n",
    "plt.plot(x,train_results)\n",
    "plt.plot(x,test_results)\n",
    "plt.legend(['train','test'])\n",
    "plt.show()"
   ]
  },
  {
   "cell_type": "markdown",
   "metadata": {},
   "source": [
    "When n_estimators=75 around, it will produce best result as shown in above plot. Then we can use our best attribute to train random forest model:"
   ]
  },
  {
   "cell_type": "markdown",
   "metadata": {},
   "source": [
    "### min_samples_leafs"
   ]
  },
  {
   "cell_type": "code",
   "execution_count": 22,
   "metadata": {},
   "outputs": [
    {
     "data": {
      "image/png": "[encoded data removed]",
      "text/plain": [
       "<Figure size 432x288 with 1 Axes>"
      ]
     },
     "metadata": {
      "needs_background": "light"
     },
     "output_type": "display_data"
    }
   ],
   "source": [
    "train_results=np.zeros(4)\n",
    "test_results=np.zeros(4)\n",
    "min_samples_leafs = [0.1, 0.5, 1, 5]\n",
    "for i,s in enumerate(min_samples_leafs):\n",
    "    clf = RandomForestClassifier(n_estimators=75, n_jobs=4, max_depth=12,\n",
    "                                      min_samples_split=16, min_samples_leaf=s)\n",
    "    clf.fit(X_train, y_train)\n",
    "    randomforest_y_train_predict2=clf.predict_proba(X_train)[:,1]\n",
    "    randomforest_y_test_predict2=clf.predict_proba(X_test)[:,1]\n",
    "    fpr, tpr, thresholds = roc_curve(y_train, randomforest_y_train_predict2)\n",
    "    train_results[i]=auc(fpr, tpr)\n",
    "    fpr, tpr, thresholds = roc_curve(y_test, randomforest_y_test_predict2)\n",
    "    test_results[i]=auc(fpr, tpr)\n",
    "plt.plot(min_samples_leafs,train_results)\n",
    "plt.plot(min_samples_leafs,test_results)\n",
    "plt.legend(['train','test'])\n",
    "plt.show()"
   ]
  },
  {
   "cell_type": "markdown",
   "metadata": {},
   "source": [
    "When min_samples_leaf=1, it gets its best score"
   ]
  },
  {
   "cell_type": "code",
   "execution_count": 23,
   "metadata": {},
   "outputs": [
    {
     "name": "stdout",
     "output_type": "stream",
     "text": [
      "Training result:\n",
      "('AUC=', 0.7984144166234035)\n",
      "('Accuracy=', 0.8897542040806299)\n",
      "Testing result:\n",
      "('AUC=', 0.6612977707103164)\n",
      "('Accuracy=', 0.8884193976317988)\n"
     ]
    }
   ],
   "source": [
    "clf = RandomForestClassifier(n_estimators=75, n_jobs=4, max_depth=12,\n",
    "                             min_samples_split=16, min_samples_leaf=1)\n",
    "clf.fit(X_train, y_train)\n",
    "randomforest_y_train_predict3=clf.predict_proba(X_train)[:,1]\n",
    "randomforest_y_test_predict3=clf.predict_proba(X_test)[:,1]\n",
    "\n",
    "print('Training result:')\n",
    "fpr_train, tpr_train, thresholds_train = roc_curve(y_train, randomforest_y_train_predict3)\n",
    "print('AUC=',auc(fpr_train, tpr_train))\n",
    "print('Accuracy=',accuracy_score(y_train, (randomforest_y_train_predict3 > threshold)))\n",
    "\n",
    "print('Testing result:')\n",
    "fpr_test, tpr_test, thresholds_test = roc_curve(y_test, randomforest_y_test_predict3)\n",
    "print('AUC=',auc(fpr_test, tpr_test))\n",
    "print('Accuracy=',accuracy_score(y_test, (randomforest_y_test_predict3 > threshold)))"
   ]
  },
  {
   "cell_type": "markdown",
   "metadata": {},
   "source": [
    "It finally can get 0.6624 score on the test data."
   ]
  },
  {
   "cell_type": "markdown",
   "metadata": {},
   "source": [
    "## Gradient boosting"
   ]
  },
  {
   "cell_type": "markdown",
   "metadata": {},
   "source": [
    "This time we use a gradient boosting classifier model."
   ]
  },
  {
   "cell_type": "code",
   "execution_count": 28,
   "metadata": {},
   "outputs": [
    {
     "data": {
      "text/plain": [
       "<Figure size 432x288 with 0 Axes>"
      ]
     },
     "metadata": {},
     "output_type": "display_data"
    },
    {
     "data": {
      "image/png": "[encoded data removed]",
      "text/plain": [
       "<Figure size 576x360 with 2 Axes>"
      ]
     },
     "metadata": {
      "needs_background": "light"
     },
     "output_type": "display_data"
    },
    {
     "data": {
      "text/plain": [
       "<Figure size 432x288 with 0 Axes>"
      ]
     },
     "metadata": {},
     "output_type": "display_data"
    },
    {
     "data": {
      "image/png": "[encoded data removed]",
      "text/plain": [
       "<Figure size 576x360 with 2 Axes>"
      ]
     },
     "metadata": {
      "needs_background": "light"
     },
     "output_type": "display_data"
    }
   ],
   "source": [
    "from sklearn.ensemble import GradientBoostingClassifier\n",
    "\n",
    "threshold = 0.5\n",
    "\n",
    "numEstimators = range(100,300,50) # Or something else\n",
    "max_depth = range(2,10,2) # Or something else\n",
    "tr_auc = np.zeros((len(max_depth),len(numEstimators)))\n",
    "va_auc = np.zeros((len(max_depth),len(numEstimators)))\n",
    "for i,dpth in enumerate(max_depth):\n",
    "    for j,numEst in enumerate(numEstimators):\n",
    "        gboost = GradientBoostingClassifier(learning_rate=0.1, n_estimators=numEst,\n",
    "                subsample=0.8, min_samples_split=2,\n",
    "                min_samples_leaf=1, max_depth=dpth)\n",
    "\n",
    "        gboost.fit(X_train, y_train)\n",
    "        gboost_y_train_predict = gboost.predict_proba(X_train)[:,1]\n",
    "        gboost_y_test_predict = gboost.predict_proba(X_test)[:,1]\n",
    "\n",
    "        fpr_train, tpr_train, thresholds_train = roc_curve(y_train, gboost_y_train_predict)\n",
    "        tr_auc[i][j] = auc(fpr_train, tpr_train)\n",
    "        \n",
    "        fpr_test, tpr_test, thresholds_test = roc_curve(y_test, gboost_y_test_predict)\n",
    "        va_auc[i][j] = auc(fpr_test, tpr_test)\n",
    "        \n",
    "plt.figure(1)\n",
    "f, ax = plt.subplots(1, 1,figsize=(8, 5))\n",
    "cax = ax.matshow(tr_auc, interpolation='nearest')\n",
    "f.colorbar(cax)\n",
    "ax.set_xticklabels(['']+list(numEstimators))\n",
    "ax.set_yticklabels(['']+list(max_depth))\n",
    "plt.xlabel('number of estimators')\n",
    "plt.ylabel('max_depth')\n",
    "plt.show()\n",
    "\n",
    "plt.figure(2)\n",
    "f, ax = plt.subplots(1, 1,figsize=(8, 5))\n",
    "cax = ax.matshow(va_auc, interpolation='nearest')\n",
    "f.colorbar(cax)\n",
    "ax.set_xticklabels(['']+list(numEstimators))\n",
    "ax.set_yticklabels(['']+list(max_depth))\n",
    "plt.xlabel('number of estimators')\n",
    "plt.ylabel('max_depth')\n",
    "plt.show()"
   ]
  },
  {
   "cell_type": "markdown",
   "metadata": {},
   "source": [
    "According to the above images, we can figure out it got max value when max_depth=4 and numbers of estimators=250"
   ]
  },
  {
   "cell_type": "code",
   "execution_count": 26,
   "metadata": {},
   "outputs": [
    {
     "name": "stdout",
     "output_type": "stream",
     "text": [
      "Training result:\n",
      "('AUC=', 0.7354316578069588)\n",
      "('Accuracy=', 0.8922723531796238)\n",
      "Testing result:\n",
      "('AUC=', 0.6749433772334535)\n",
      "('Accuracy=', 0.8877315383481551)\n"
     ]
    }
   ],
   "source": [
    "from sklearn.ensemble import GradientBoostingClassifier\n",
    "\n",
    "gboost = GradientBoostingClassifier(learning_rate=0.1, n_estimators=250,\n",
    "                                    subsample=0.8, min_samples_split=2,\n",
    "                                    min_samples_leaf=1, max_depth=4)\n",
    "gboost.fit(X_train, y_train)\n",
    "\n",
    "gboost_y_train_predict = gboost.predict_proba(X_train)[:,1]\n",
    "gboost_y_test_predict = gboost.predict_proba(X_test)[:,1]\n",
    "\n",
    "print('Training result:')\n",
    "fpr_train, tpr_train, thresholds_train = roc_curve(y_train, gboost_y_train_predict)\n",
    "print('AUC=',auc(fpr_train, tpr_train))\n",
    "print('Accuracy=',accuracy_score(y_train, (gboost_y_train_predict > threshold)))\n",
    "\n",
    "print('Testing result:')\n",
    "fpr_test, tpr_test, thresholds_test = roc_curve(y_test, gboost_y_test_predict)\n",
    "print('AUC=',auc(fpr_test, tpr_test))\n",
    "print('Accuracy=',accuracy_score(y_test, (gboost_y_test_predict > threshold)))"
   ]
  },
  {
   "cell_type": "markdown",
   "metadata": {},
   "source": [
    "The gradient boosting method is used widely in industrial, it can get 0.6749 score on the test data"
   ]
  },
  {
   "cell_type": "markdown",
   "metadata": {},
   "source": [
    "# Conclusion"
   ]
  },
  {
   "cell_type": "markdown",
   "metadata": {},
   "source": [
    "In this project, we have studied the Diabetes 130-US hospitals data to perform classification on the readmitted status. The original data has 49 features, but some of them are not useful or missing information a lot. By examining the characteristic of all features, we dropped 25 unuseful features and kept 24 useful features for the classification task. We split the data into 80% for training and 20% for testing."
   ]
  },
  {
   "cell_type": "markdown",
   "metadata": {},
   "source": [
    "We have carried out several methods such as logistic regression, random forest and gradient boosting. The testing AUC of logistic regression, random forest and gradient boosting are 0.638, 0.662, and 0.6749, respectively. Hence, among the 3 mentioned methods, gradient boosting gives the best performance. For the random forest, AUC of 0.662 is obtained with setting min_samples_plit = 16, max_depth = 12,  n_estimators = 75, and min_samples_leaf = 1. For the gradient boosting method, AUC of 0.6749 is obtained with setting n_estimators = 250,  max_depth = 4, min_samples_split = 2, and min_samples_leaf = 1."
   ]
  }
 ],
 "metadata": {
  "kernelspec": {
   "display_name": "Python 2",
   "language": "python",
   "name": "python2"
  },
  "language_info": {
   "codemirror_mode": {
    "name": "ipython",
    "version": 2
   },
   "file_extension": ".py",
   "mimetype": "text/x-python",
   "name": "python",
   "nbconvert_exporter": "python",
   "pygments_lexer": "ipython2",
   "version": "2.7.15"
  }
 },
 "nbformat": 4,
 "nbformat_minor": 2
}
